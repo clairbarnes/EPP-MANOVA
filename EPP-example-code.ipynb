{
 "cells": [
  {
   "cell_type": "markdown",
   "id": "468180de-0b80-4931-88dc-e43cb6d0333b",
   "metadata": {},
   "source": [
    "<a id=\"top\"></a>\n",
    "### **Script replicating the figures and analysis in _Characterising spatial structure in climate model ensembles_**\n",
    "\n",
    "EPP analysis of an unstructured ensemble, illustrated using the UKCP18 regional PPE:\n",
    "- [**Figure 1:** Change in frequency of wet days in UKCP18 ensemble members between 1980-2010 and 2050-2079](#figure-1)\n",
    "- [**Section 3:** Simple EPP analysis](#simple-epps)\n",
    "\n",
    "EPP analysis of an unbalanced hierarchical ensemble, illustrated using the EuroCORDEX regional MME:\n",
    "- [(i) Estimate the GCM and RCM effects](#fitted-model2)\n",
    "- [**Figure 3:** Estimated partitioning of uncertainty](#estimated-anova)\n",
    "- [**Figure 4:** EPP analysis of estimated GCM effects](#gcm-epps)\n"
   ]
  },
  {
   "cell_type": "code",
   "execution_count": null,
   "id": "4c23a5b5-caa8-41bd-8dfe-4b9b6a2e51bd",
   "metadata": {
    "tags": []
   },
   "outputs": [],
   "source": [
    "# all modules & methods are provided in the epp_manova script\n",
    "from epp_manova import *\n",
    "import re\n",
    "\n",
    "#~~~~~~~~~~~~~~~~~~~~~~~~~~~~~~~~~~~~~~~~~~~~~~~~~~~~~~~~~~~~~~\n",
    "# Switch local working directory\n",
    "import os\n",
    "os.chdir(\"/data/met/reports/epp-paper/binder\")"
   ]
  },
  {
   "cell_type": "markdown",
   "id": "90022f02-a97f-4370-bf51-5a7e2bac2402",
   "metadata": {
    "tags": []
   },
   "source": [
    "---\n",
    "### **Analysis of an unstructured ensemble**"
   ]
  },
  {
   "cell_type": "markdown",
   "id": "951f1444-ea35-471e-b07f-1e53e884d116",
   "metadata": {
    "tags": []
   },
   "source": [
    "<a id=\"figure-1\"></a>\n",
    "#### **Figure 1: change in frequency of wet days in UKCP18 ensemble members between 1980-2010 and 2050-2079** [^](#top)"
   ]
  },
  {
   "cell_type": "code",
   "execution_count": null,
   "id": "f1981060-c960-4edd-8c84-c4ba005433a7",
   "metadata": {
    "tags": []
   },
   "outputs": [],
   "source": [
    "# load data\n",
    "fwd = xr.open_dataset(\"fwd_JJA_2050-2079_ukcp18-12km.nc\").fwd\n",
    "\n",
    "# create array of subplots using OSGB projection, adjust spacing\n",
    "fig, axs = plt.subplots(ncols = 6, nrows = 2, figsize = (15,8), sharex = True, sharey = True, dpi= 100, facecolor='w', edgecolor='k', subplot_kw = {\"projection\" : crs_osgb})\n",
    "fig.tight_layout()\n",
    "plt.subplots_adjust(hspace = 0)\n",
    "\n",
    "# get extent of values for colourbar\n",
    "vlim = np.ceil(max([np.abs(x) for x in [fwd.min(), fwd.max()]]))\n",
    "\n",
    "# plot each ensemble member on separate axes\n",
    "for i in range(12):\n",
    "    \n",
    "    ax = fig.axes[i]\n",
    "    cbar = fwd.isel(run = i).plot(ax = ax, cmap = \"RdBu\", vmin = -vlim, vmax = vlim, add_colorbar = False)       # draw map\n",
    "    \n",
    "    ax.set_title(fwd.run.values[i], fontsize = \"medium\", y = 0.92)                                               # add title manually to customise height\n",
    "    \n",
    "    ax.set_extent((-2e5, 7e5, -1e5, 12.2e5), crs = crs_osgb)                                                     # fix plot extent to reduce whitespace\n",
    "    ax.set_axis_off()                                                                                            # remove box around plot\n",
    "    ax.coastlines()                                                                                              # draw coastlines\n",
    "     \n",
    "# add shared colourbar\n",
    "plt.colorbar(cbar, ax = axs, location = \"bottom\", fraction = 0.025, pad = 0.01, label = \"Change in percentage of wet days\")\n",
    "\n",
    "plt.suptitle(\"Figure 1: Changes in percentage of wet summer days in the UKCP18 ensemble members between 1981-2010 and 2050-2079\", y = 1.0, fontweight = \"bold\")"
   ]
  },
  {
   "cell_type": "markdown",
   "id": "a2c3c9e1-b9fd-46e1-8067-911429d69c6d",
   "metadata": {
    "tags": []
   },
   "source": [
    "<a id=\"simple-epps\"></a>\n",
    "#### **Simple EPP analysis for an ensemble with no hierarchical structure** [^](#top)"
   ]
  },
  {
   "cell_type": "code",
   "execution_count": null,
   "id": "e16da824-a043-4976-92a4-93e945d0830d",
   "metadata": {
    "tags": []
   },
   "outputs": [],
   "source": [
    "# load data\n",
    "Y = xr.open_dataset(\"fwd_JJA_2050-2079_ukcp18-12km.nc\").fwd\n",
    "\n",
    "# centre the data by subtracting the ensemble mean at each location; flatten map array to vector\n",
    "Ybar = Y.mean(\"run\", skipna = False)\n",
    "Y_tilde = (Y - Ybar).stack(s = (\"projection_y_coordinate\", \"projection_x_coordinate\")).dropna(\"s\", \"any\").values\n",
    "\n",
    "# compute EPPs on the centred data and plot\n",
    "ukcp_epps = EPPs(Y_tilde, Ybar)\n",
    "EPP_plot(*ukcp_epps.values(), cmap = \"RdBu\", markers = [\"$\"+str(i+1).rjust(2, \"0\")+\"$\" for i in range(12)], cbar_label = \"Change in percentage of wet days\")\n",
    "\n",
    "plt.suptitle(\"Figure 2: EPPs analysis of the UKCP18 ensemble\", y = 1.1, fontweight = \"bold\")"
   ]
  },
  {
   "cell_type": "markdown",
   "id": "e370ad1d-a040-438d-a2c3-48bcd82725bb",
   "metadata": {
    "tags": []
   },
   "source": [
    "---\n",
    "### **Analysis of an unbalanced structured ensemble** [^](#top)\n",
    "\n",
    "The steps in the following analysis can be summarised as:  \n",
    "&nbsp; (i) calculate least-squares estimates of the coefficients given by equation (3) in the paper;  \n",
    "&nbsp; (ii) calculate the residual matrix $\\textbf{e}^{(2)}$;  \n",
    "&nbsp; (iii) calculate the EPPs of the coefficient matrices and, if appropriate, of $\\textbf{e}^{(2)}$;  \n",
    "&nbsp; (iv) use equation (10) in the paper to produce an estimated partitioning of total variation;  \n",
    "&nbsp; (v) calculate the ranges of variation for the observed ensemble by carrying out Type I analyses based on Models 0, 1a, 1b and 2."
   ]
  },
  {
   "cell_type": "markdown",
   "id": "19b44770-e0d6-4188-bdc8-2a47f07b26a9",
   "metadata": {},
   "source": [
    "<a id=\"fitted-model2\"></a>\n",
    "\n",
    "#### **(i) Fit model 2 (including both GCM \\& RCM effects)** [^](#top)"
   ]
  },
  {
   "cell_type": "code",
   "execution_count": null,
   "id": "34b59e8b-dc8e-426c-bb7c-af89216ccad5",
   "metadata": {},
   "outputs": [],
   "source": [
    "# Load the data\n",
    "Y = xr.open_dataset(\"tasmax_JJA_1989-2008_EuroCORDEX.nc\").tasmax\n",
    "\n",
    "Ybar = Y.mean(\"run\", skipna = False)\n",
    "Y_tilde = (Y - Ybar).stack(s = (\"projection_y_coordinate\", \"projection_x_coordinate\")).dropna(\"s\", \"any\").values      # centre data & flatten into vector\n",
    "ens_sd = Y.std(\"run\", skipna = False)\n",
    "\n",
    "#~~~~~~~~~~~~~~~~~~~~~~~~~~~~~~~~~~~~~~~~~~~~~~~~~~~~~~~~~~~~~~~~~~~~~~~~~~\n",
    "# CONSTRUCT DESIGN MATRICES\n",
    "\n",
    "# identify GCM and RCM used for each run\n",
    "run_names = Y.run.values\n",
    "run_gcm = Y.run.str.replace(\"p1_.+\",\"p1\").values\n",
    "run_rcm = Y.run.str.replace(\".+_\",\"\").values\n",
    "\n",
    "# get G and R, counts of unique GCMs and RCMs\n",
    "gcms = sorted(set(run_gcm))\n",
    "rcms = sorted(set(run_rcm))\n",
    "\n",
    "n = len(run_names)\n",
    "G = len(gcms)\n",
    "R = len(rcms)\n",
    "\n",
    "# create matrices indicating group membership & stack to form X\n",
    "X_G = np.column_stack([[-1 if gcms[-1] in run_name else (1 if g in run_name else 0) for run_name in Y.run.values] for g in gcms[:-1]])\n",
    "X_R = np.column_stack([[-1 if rcms[-1] in run_name else (1 if r in run_name else 0) for run_name in Y.run.values] for r in rcms[:-1]])\n",
    "X = np.column_stack([np.ones([len(Y.run), 1]), X_G, X_R])\n",
    "\n",
    "#~~~~~~~~~~~~~~~~~~~~~~~~~~~~~~~~~~~~~~~~~~~~~~~~~~~~~~~~~~~~~~~~~~~~~~~~~~\n",
    "# FIT MODEL 2\n",
    "\n",
    "# flatten data & solve equation (5) to find the fitted effects for model 2 (accounting for GCM and RCM simultaneously)\n",
    "Y = Y.stack(s = (\"projection_y_coordinate\", \"projection_x_coordinate\")).dropna(\"s\", \"any\").values\n",
    "theta_hat = np.linalg.solve(X.transpose() @ X, X.transpose() @ Y)\n",
    "\n",
    "# extract fitted effects for easier interpretation\n",
    "mu_hat = theta_hat[0,:]\n",
    "alpha_hat = np.row_stack([theta_hat[1:G,:], -theta_hat[1:G,:].sum(0)])\n",
    "beta_hat = np.row_stack([theta_hat[G:,:], -theta_hat[G:,:].sum(0)])"
   ]
  },
  {
   "cell_type": "markdown",
   "id": "73925b9e-aae6-4171-9937-c91ea20a3cb0",
   "metadata": {},
   "source": [
    "<a id=\"model2-residuals\"></a>\n",
    "\n",
    "#### **(ii) Calculate the residual matrix** [^](#top)"
   ]
  },
  {
   "cell_type": "code",
   "execution_count": null,
   "id": "e93e76d5-f5c9-47d4-b34a-0151538403e9",
   "metadata": {},
   "outputs": [],
   "source": [
    "# compute residuals\n",
    "model2_res = Y - (X @ theta_hat)"
   ]
  },
  {
   "cell_type": "markdown",
   "id": "af451428-62fb-494e-a748-a550c6facb67",
   "metadata": {},
   "source": [
    "<a id=\"gcm-epps\"></a>\n",
    "\n",
    "#### **(iii) Calculate EPPs of fitted GCM & RCM effects** [^](#top)\n",
    "\n"
   ]
  },
  {
   "cell_type": "code",
   "execution_count": null,
   "id": "01d2c192-33cd-4a88-982d-f8739efa8b08",
   "metadata": {
    "tags": []
   },
   "outputs": [],
   "source": [
    "# compute EPPs from fitted effects\n",
    "gcm_epps = EPPs(alpha_hat, Ybar)\n",
    "rcm_epps = EPPs(beta_hat, Ybar)\n",
    "\n",
    "#~~~~~~~~~~~~~~~~~~~~~~~~~~~~~~~~~~~~~~~~~~~~~~~~~~~~~~~~~~~~~~~~~~~~~~~~~~~~~~~~~~~~~~~~~~~~\n",
    "\n",
    "# specify plotting symbols & colours to reflect those used in the paper\n",
    "gcm_markers = {'CNRM-CERFACS-CNRM-CM5_r1i1p1': 'o', 'ICHEC-EC-EARTH_r12i1p1': 'p', 'ICHEC-EC-EARTH_r1i1p1': 'h', 'ICHEC-EC-EARTH_r3i1p1': 'H', 'IPSL-IPSL-CM5A-MR_r1i1p1': 's',\n",
    "               'MOHC-HadGEM2-ES_r1i1p1': 'P', 'MPI-M-MPI-ESM-LR_r1i1p1': '<', 'MPI-M-MPI-ESM-LR_r2i1p1': '^', 'MPI-M-MPI-ESM-LR_r3i1p1': '>', 'NCC-NorESM1-M_r1i1p1': 'X'}\n",
    "\n",
    "rcm_colours = {'ALADIN63': 'mediumblue', 'CCLM4-8-17': 'blueviolet', 'COSMO-crCLIM-v1-1': 'mediumvioletred', 'HIRHAM5': 'red', 'HadREM3-GA7-05': 'darkorange', 'RACMO22E': 'gold',\n",
    "               'RCA4': 'yellowgreen', 'REMO2015': 'green', 'RegCM4-6': 'darkturquoise', 'WRF381P': 'dodgerblue'}\n",
    "\n",
    "# get maximum values to fix colour scale & score axes for both GCMs and RCMs\n",
    "vmax = max([np.abs(epps[\"EPPs\"].max()) for epps in [gcm_epps, rcm_epps]] + [np.abs(epps[\"EPPs\"].min()) for epps in [gcm_epps, rcm_epps]])\n",
    "smax = max([np.abs(epps[\"scores\"].max()) for epps in [gcm_epps, rcm_epps]] + [np.abs(epps[\"scores\"].min()) for epps in [gcm_epps, rcm_epps]]) * 1.2\n",
    "\n",
    "#~~~~~~~~~~~~~~~~~~~~~~~~~~~~~~~~~~~~~~~~~~~~~~~~~~~~~~~~~~~~~~~~~~~~~~~~~~~~~~~~~~~~~~~~~~~~\n",
    "\n",
    "# plots\n",
    "EPP_plot(*gcm_epps.values(), cmap = \"RdBu_r\", markers = list(gcm_markers.values()), colours = \"w\", cbar_label = \"Bias in daily maximum temperature (°C)\", vlim = vmax)\n",
    "plt.gca().set_xlim(-smax, smax); plt.gca().set_ylim(-smax, smax)\n",
    "plt.suptitle(\"Figure 4: EPPs of fitted GCM effects\", y = 1.1, fontweight = \"bold\")\n",
    "\n",
    "EPP_plot(*rcm_epps.values(), cmap = \"RdBu_r\", colours = list(rcm_colours.values()), cbar_label = \"Bias in daily maximum temperature (°C)\", vlim = vmax)\n",
    "plt.gca().set_xlim(-smax, smax); plt.gca().set_ylim(-smax, smax)\n",
    "plt.suptitle(\"Figure 5: EPPs of fitted RCM effects\", y = 1.1, fontweight = \"bold\")"
   ]
  },
  {
   "cell_type": "markdown",
   "id": "11343b1f-4c70-4b74-929c-fc2931610620",
   "metadata": {},
   "source": [
    "<a id=\"residual-epps\"></a>\n",
    "\n",
    "##### **Calculate EPPs of residuals** [^](#top)\n",
    "\n"
   ]
  },
  {
   "cell_type": "code",
   "execution_count": null,
   "id": "390a37bc-13dd-46de-b119-048219c48a45",
   "metadata": {},
   "outputs": [],
   "source": [
    "residual_epps = EPPs(model2_res, Ybar)\n",
    "EPP_plot(*residual_epps.values(), cmap = \"RdBu_r\", cbar_label = \"Bias in daily maximum temperature (°C)\", vlim = vmax,\n",
    "        markers = [gcm_markers[re.sub(\"p1_.+\", \"p1\", g)] for g in run_names],\n",
    "        colours = [rcm_colours[re.sub(\".+p1_\", \"\", r)] for r in run_names])\n",
    "\n",
    "plt.gca().set_xlim(-smax, smax); plt.gca().set_ylim(-smax, smax)\n",
    "plt.suptitle(\"EPPs of residuals\", y = 1.1, fontweight = \"bold\")"
   ]
  },
  {
   "cell_type": "markdown",
   "id": "5ef2ce99-4809-41c4-9942-ee3d44897739",
   "metadata": {},
   "source": [
    "<a id=\"estimated-anova\"></a>\n",
    "\n",
    "#### **(iv) Estimated partitioning of uncertainty** [^](#top)"
   ]
  },
  {
   "cell_type": "code",
   "execution_count": null,
   "id": "0beb9ba3-5933-4fa3-b615-774a321fdaf6",
   "metadata": {},
   "outputs": [],
   "source": [
    "# estimate 'complete' SSCPs using reweighted fitted effects & residuals\n",
    "T_G2 = R * alpha_hat.transpose() @ alpha_hat\n",
    "T_R2 = G * beta_hat.transpose() @ beta_hat\n",
    "T_E2 = (R-1) * (G-1) * (model2_res.transpose() @ model2_res) / (n - R - G - 1)\n",
    "T_2 = T_G2 + T_R2 + T_E2\n",
    "\n",
    "# reshape all estimated SSCPs to maps\n",
    "T_2, T_G2, T_R2, T_E2 = [reshape_to_map(np.diag(T), to_map = Ybar) for T in [T_2, T_G2, T_R2, T_E2]]\n",
    "\n",
    "# get maps of contribution per grid cell & proportion of trace(T_2)\n",
    "est_ve_maps = [T / T_2 * 100 for T in [T_G2, T_R2, T_E2]]\n",
    "est_ve = [\"\\n(\"+str(int((T.sum() / T_2.sum() * 100).round().values))+\"%)\" for T in [T_G2, T_R2, T_E2]]"
   ]
  },
  {
   "cell_type": "code",
   "execution_count": null,
   "id": "f83526ef-56e1-473b-945d-398391ee0dc9",
   "metadata": {},
   "outputs": [],
   "source": [
    "# create array of subplots using OSGB projection, adjust spacing\n",
    "fig, axs = plt.subplots(ncols = 4, figsize = (15,5), sharex = True, sharey = True, dpi= 100, facecolor='w', edgecolor='k', subplot_kw = {\"projection\" : crs_osgb})\n",
    "plt.subplots_adjust(hspace = 0)\n",
    "\n",
    "# set spatial extent of map axes, remove bounding box, add coastlines\n",
    "for ax in fig.axes:\n",
    "    ax.set_extent((-2e5, 7e5, -1e5, 12.2e5), crs = crs_osgb)                                                       # fix plot extent to reduce whitespace\n",
    "    ax.set_axis_off()                                                                                              # remove box around plot\n",
    "    ax.coastlines()                                                                                                # draw coastlines\n",
    "    \n",
    "cbar_ss = ens_sd.plot(ax = axs[0], cmap = \"Reds\", add_colorbar = False)\n",
    "axs[0].set_title(\"Ensemble standard deviation\\n\")\n",
    "    \n",
    "for i in range(3):\n",
    "    cbar_ve = est_ve_maps[i].plot(ax = axs[i+1], vmin = 0, vmax = 100, add_colorbar = False, cmap = \"viridis\")\n",
    "    titlestring = [\"Proportion explained by GCM\", \"Proportion explained by RCM\", \"Residual uncertainty\"][i] + est_ve[i]\n",
    "    axs[i+1].set_title(titlestring)\n",
    "\n",
    "plt.colorbar(cbar_ss, ax = axs[0], location = \"bottom\", pad = 0.02, fraction = 0.05, label =\"Bias in daily maximum air temperature (°C)\")\n",
    "plt.colorbar(cbar_ve, ax = axs[1:], location = \"bottom\", pad = 0.02, fraction = 0.03, label = \"% of variance explained by each component\")\n",
    "\n",
    "plt.suptitle(\"Figure 3: Estimated decomposition of variation in the EuroCORDEX ensemble\", y = 1.03, fontweight = \"bold\")"
   ]
  },
  {
   "cell_type": "code",
   "execution_count": null,
   "id": "87ceb326-dff0-48a7-b0c8-121bbb29d8d8",
   "metadata": {},
   "outputs": [],
   "source": []
  },
  {
   "cell_type": "code",
   "execution_count": null,
   "id": "19ed7772-4d8b-48fa-9877-6fb212c8c571",
   "metadata": {},
   "outputs": [],
   "source": []
  }
 ],
 "metadata": {
  "kernelspec": {
   "display_name": "xclim",
   "language": "python",
   "name": "xclim"
  },
  "language_info": {
   "codemirror_mode": {
    "name": "ipython",
    "version": 3
   },
   "file_extension": ".py",
   "mimetype": "text/x-python",
   "name": "python",
   "nbconvert_exporter": "python",
   "pygments_lexer": "ipython3",
   "version": "3.9.6"
  }
 },
 "nbformat": 4,
 "nbformat_minor": 5
}
